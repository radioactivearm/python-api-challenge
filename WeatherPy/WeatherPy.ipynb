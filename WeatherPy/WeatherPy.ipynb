{
 "cells": [
  {
   "cell_type": "markdown",
   "metadata": {},
   "source": [
    "# Weather Maps"
   ]
  },
  {
   "cell_type": "code",
   "execution_count": 1,
   "metadata": {},
   "outputs": [],
   "source": [
    "# Dependencies\n",
    "import matplotlib.pyplot as plt\n",
    "import pandas as pd\n",
    "import numpy as np\n",
    "import json\n",
    "import requests\n",
    "import time\n",
    "from scipy.stats import linregress\n",
    "\n",
    "# API keys\n",
    "from config import api_key"
   ]
  },
  {
   "cell_type": "code",
   "execution_count": 21,
   "metadata": {},
   "outputs": [],
   "source": [
    "# setting my search paramaters\n",
    "towns = ['lakeville,minnesota', 'st. paul,minnesota']\n",
    "units = 'imperial'\n",
    "base_url = 'http://api.openweathermap.org/data/2.5/weather?'"
   ]
  },
  {
   "cell_type": "code",
   "execution_count": 22,
   "metadata": {},
   "outputs": [],
   "source": [
    "# running thru my list of cities and grabbing the data i want\n",
    "cities = []\n",
    "lat = []\n",
    "lng = []\n",
    "max_temp = []\n",
    "humidity = []\n",
    "cloudiness = []\n",
    "country = []\n",
    "date = []\n",
    "\n",
    "for city in towns:\n",
    "    \n",
    "    city_url = f\"{base_url}q={city}&units={units}&appid={api_key}\"\n",
    "    response = requests.get(city_url)\n",
    "    city_json = response.json()\n",
    "    time.sleep(1)\n",
    "    # i want city, lat, lng, max temp, humidity, cloudiness, windspeed, country, date\n",
    "    \n",
    "    cities.append(city_json['name'])\n",
    "    lat.append(city_json['coord']['lat'])\n",
    "    lng.append(city_json['coord']['lon'])\n",
    "    max_temp.append(city_json['main']['temp_max'])\n",
    "    humidity.append(city_json['main']['humidity'])\n",
    "    cloudiness.append(city_json['clouds']['all'])\n",
    "    country.append(city_json['sys']['country'])\n",
    "    date.append(city_json['dt'])\n",
    "\n",
    "weather_dict = {\n",
    "    'City': cities,\n",
    "    'Lat': lat,\n",
    "    'Lng': lng,\n",
    "    'Max Temp': max_temp,\n",
    "    'Humidity': humidity,\n",
    "    'Cloudiness': cloudiness,\n",
    "    'Country': country,\n",
    "    'Date': date\n",
    "}\n",
    "\n",
    "weather_df = pd.DataFrame(weather_dict)"
   ]
  },
  {
   "cell_type": "code",
   "execution_count": 23,
   "metadata": {},
   "outputs": [
    {
     "data": {
      "text/html": [
       "<div>\n",
       "<style scoped>\n",
       "    .dataframe tbody tr th:only-of-type {\n",
       "        vertical-align: middle;\n",
       "    }\n",
       "\n",
       "    .dataframe tbody tr th {\n",
       "        vertical-align: top;\n",
       "    }\n",
       "\n",
       "    .dataframe thead th {\n",
       "        text-align: right;\n",
       "    }\n",
       "</style>\n",
       "<table border=\"1\" class=\"dataframe\">\n",
       "  <thead>\n",
       "    <tr style=\"text-align: right;\">\n",
       "      <th></th>\n",
       "      <th>City</th>\n",
       "      <th>Lat</th>\n",
       "      <th>Lng</th>\n",
       "      <th>Max Temp</th>\n",
       "      <th>Humidity</th>\n",
       "      <th>Cloudiness</th>\n",
       "      <th>Country</th>\n",
       "      <th>Date</th>\n",
       "    </tr>\n",
       "  </thead>\n",
       "  <tbody>\n",
       "    <tr>\n",
       "      <th>0</th>\n",
       "      <td>Lakeville</td>\n",
       "      <td>44.6497</td>\n",
       "      <td>-93.2427</td>\n",
       "      <td>1.00</td>\n",
       "      <td>50</td>\n",
       "      <td>1</td>\n",
       "      <td>US</td>\n",
       "      <td>1612816477</td>\n",
       "    </tr>\n",
       "    <tr>\n",
       "      <th>1</th>\n",
       "      <td>Saint Paul</td>\n",
       "      <td>44.9444</td>\n",
       "      <td>-93.0933</td>\n",
       "      <td>1.99</td>\n",
       "      <td>46</td>\n",
       "      <td>1</td>\n",
       "      <td>US</td>\n",
       "      <td>1612816421</td>\n",
       "    </tr>\n",
       "  </tbody>\n",
       "</table>\n",
       "</div>"
      ],
      "text/plain": [
       "         City      Lat      Lng  Max Temp  Humidity  Cloudiness Country  \\\n",
       "0   Lakeville  44.6497 -93.2427      1.00        50           1      US   \n",
       "1  Saint Paul  44.9444 -93.0933      1.99        46           1      US   \n",
       "\n",
       "         Date  \n",
       "0  1612816477  \n",
       "1  1612816421  "
      ]
     },
     "execution_count": 23,
     "metadata": {},
     "output_type": "execute_result"
    }
   ],
   "source": [
    "weather_df"
   ]
  },
  {
   "cell_type": "code",
   "execution_count": null,
   "metadata": {},
   "outputs": [],
   "source": []
  }
 ],
 "metadata": {
  "kernelspec": {
   "display_name": "Python 3",
   "language": "python",
   "name": "python3"
  },
  "language_info": {
   "codemirror_mode": {
    "name": "ipython",
    "version": 3
   },
   "file_extension": ".py",
   "mimetype": "text/x-python",
   "name": "python",
   "nbconvert_exporter": "python",
   "pygments_lexer": "ipython3",
   "version": "3.6.10"
  }
 },
 "nbformat": 4,
 "nbformat_minor": 4
}
