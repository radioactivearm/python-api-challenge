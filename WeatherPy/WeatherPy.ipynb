{
 "cells": [
  {
   "cell_type": "markdown",
   "metadata": {},
   "source": [
    "# Weather Maps"
   ]
  },
  {
   "cell_type": "code",
   "execution_count": null,
   "metadata": {},
   "outputs": [],
   "source": [
    "# Dependencies\n",
    "import matplotlib.pyplot as plt\n",
    "import pandas as pd\n",
    "import numpy as np\n",
    "import json\n",
    "import requests\n",
    "import time\n",
    "from scipy.stats import linregress\n",
    "\n",
    "# Incorporated citipy to determine city based on latitude and longitude\n",
    "from citipy import citipy\n",
    "\n",
    "# API keys\n",
    "from config import api_key"
   ]
  },
  {
   "cell_type": "code",
   "execution_count": null,
   "metadata": {},
   "outputs": [],
   "source": [
    "# these next to cells i got from the starter code to generate list of cities to use\n",
    "lat_range = (-90, 90)\n",
    "lng_range = (-180, 180)"
   ]
  },
  {
   "cell_type": "code",
   "execution_count": null,
   "metadata": {},
   "outputs": [],
   "source": [
    "# List for holding lat_lngs and cities\n",
    "lat_lngs = []\n",
    "towns = []\n",
    "\n",
    "# Create a set of random lat and lng combinations\n",
    "lats = np.random.uniform(lat_range[0], lat_range[1], size=1500)\n",
    "lngs = np.random.uniform(lng_range[0], lng_range[1], size=1500)\n",
    "lat_lngs = zip(lats, lngs)\n",
    "\n",
    "# Identify nearest city for each lat, lng combination\n",
    "for lat_lng in lat_lngs:\n",
    "    city = citipy.nearest_city(lat_lng[0], lat_lng[1]).city_name\n",
    "    \n",
    "    # If the city is unique, then add it to a our cities list\n",
    "    if city not in towns:\n",
    "        towns.append(city)\n",
    "\n",
    "# Print the city count to confirm sufficient count\n",
    "len(towns)"
   ]
  },
  {
   "cell_type": "code",
   "execution_count": null,
   "metadata": {},
   "outputs": [],
   "source": []
  },
  {
   "cell_type": "code",
   "execution_count": null,
   "metadata": {},
   "outputs": [],
   "source": [
    "# setting my search paramaters\n",
    "# towns = ['st. paul', 'albany', 'st. louis', 'miami', 'portland']\n",
    "units = 'imperial'\n",
    "base_url = 'http://api.openweathermap.org/data/2.5/weather?'"
   ]
  },
  {
   "cell_type": "code",
   "execution_count": null,
   "metadata": {
    "scrolled": true
   },
   "outputs": [],
   "source": [
    "# running thru my list of cities and grabbing the data i want\n",
    "cities = []\n",
    "lat = []\n",
    "lng = []\n",
    "max_temp = []\n",
    "humidity = []\n",
    "cloudiness = []\n",
    "wind_speed = []\n",
    "country = []\n",
    "date = []\n",
    "\n",
    "rec_num = 0\n",
    "set_num = 0\n",
    "\n",
    "print('Beginning Data Calls.')\n",
    "print('-----------------------')\n",
    "\n",
    "for city in towns:\n",
    "    \n",
    "    city_url = f\"{base_url}q={city}&units={units}&appid={api_key}\"\n",
    "    response = requests.get(city_url)\n",
    "    city_json = response.json()\n",
    "    \n",
    "    # sleep for one second to avoid requesting more than 60 per min\n",
    "    time.sleep(1)\n",
    "    \n",
    "    # i want city, lat, lng, max temp, humidity, cloudiness, windspeed, country, date\n",
    "    try:\n",
    "        cities.append(city_json['name'])\n",
    "        lat.append(city_json['coord']['lat'])\n",
    "        lng.append(city_json['coord']['lon'])\n",
    "        max_temp.append(city_json['main']['temp_max'])\n",
    "        humidity.append(city_json['main']['humidity'])\n",
    "        cloudiness.append(city_json['clouds']['all'])\n",
    "        wind_speed.append(city_json['wind']['speed'])\n",
    "        country.append(city_json['sys']['country'])\n",
    "        date.append(city_json['dt'])\n",
    "        \n",
    "        if rec_num < 49:\n",
    "            rec_num += 1\n",
    "        else:\n",
    "            rec_num = 0\n",
    "            set_num +=1\n",
    "\n",
    "        print(f'Processing Record {rec_num} of Set {set_num} | {city}')\n",
    "        \n",
    "    except:\n",
    "        print('City not found Skipping.')\n",
    "        \n",
    "\n",
    "        \n",
    "        \n",
    "weather_dict = {\n",
    "    'City': cities,\n",
    "    'Lat': lat,\n",
    "    'Lng': lng,\n",
    "    'Max Temp': max_temp,\n",
    "    'Humidity': humidity,\n",
    "    'Cloudiness': cloudiness,\n",
    "    'Wind Speed': wind_speed,\n",
    "    'Country': country,\n",
    "    'Date': date\n",
    "}\n",
    "\n",
    "weather_df = pd.DataFrame(weather_dict)"
   ]
  },
  {
   "cell_type": "code",
   "execution_count": null,
   "metadata": {},
   "outputs": [],
   "source": [
    "weather_df.head()"
   ]
  },
  {
   "cell_type": "code",
   "execution_count": null,
   "metadata": {},
   "outputs": [],
   "source": [
    "weather_df.dtypes"
   ]
  },
  {
   "cell_type": "code",
   "execution_count": null,
   "metadata": {},
   "outputs": [],
   "source": [
    "weather_df.count()"
   ]
  },
  {
   "cell_type": "code",
   "execution_count": null,
   "metadata": {},
   "outputs": [],
   "source": [
    "# getting rid of cities with humidity greater than 100\n",
    "weather_df = weather_df.loc[weather_df['Humidity'] <= 100, :]"
   ]
  },
  {
   "cell_type": "code",
   "execution_count": null,
   "metadata": {},
   "outputs": [],
   "source": [
    "weather_df.count()"
   ]
  },
  {
   "cell_type": "code",
   "execution_count": null,
   "metadata": {},
   "outputs": [],
   "source": [
    "output_file = 'output/weather_data.csv'\n",
    "\n",
    "weather_df.to_csv(output_file, index=False)"
   ]
  },
  {
   "cell_type": "markdown",
   "metadata": {},
   "source": [
    "# ok, I have data."
   ]
  },
  {
   "cell_type": "markdown",
   "metadata": {},
   "source": [
    "## Scatterplots"
   ]
  },
  {
   "cell_type": "code",
   "execution_count": null,
   "metadata": {},
   "outputs": [],
   "source": [
    "# temperature vs latitude\n",
    "lat = weather_df['Lat']\n",
    "temp = weather_df['Max Temp']\n",
    "\n",
    "plt.figure(figsize=(8,6))\n",
    "plt.scatter(lat, temp, color='lightgreen', edgecolor='black', alpha=.8)\n",
    "\n",
    "plt.title('Max Temperature VS City Latitude (2/8/21)')\n",
    "plt.xlabel('Latitude')\n",
    "plt.ylabel('Max Temperature (F)')\n",
    "\n",
    "plt.grid(True)\n",
    "\n",
    "plt.show()"
   ]
  },
  {
   "cell_type": "code",
   "execution_count": null,
   "metadata": {},
   "outputs": [],
   "source": [
    "# humidity vs latitude\n",
    "humid = weather_df['Humidity']\n",
    "\n",
    "plt.figure(figsize=(8,6))\n",
    "plt.scatter(lat, humid, color='lightgreen', edgecolor='black', alpha=.8)\n",
    "\n",
    "plt.title('Humidity VS City Latitude (2/8/21)')\n",
    "plt.xlabel('Latitude')\n",
    "plt.ylabel('Humidity (%)')\n",
    "\n",
    "plt.grid(True)\n",
    "\n",
    "plt.show()"
   ]
  },
  {
   "cell_type": "code",
   "execution_count": null,
   "metadata": {},
   "outputs": [],
   "source": [
    "# cloudiness vs latitude\n",
    "clouds = weather_df['Cloudiness']\n",
    "\n",
    "plt.figure(figsize=(8,6))\n",
    "plt.scatter(lat, clouds, color='lightgreen', edgecolor='black', alpha=.8)\n",
    "\n",
    "plt.title('Cloudiness VS City Latitude (2/8/21)')\n",
    "plt.xlabel('Latitude')\n",
    "plt.ylabel('Cloudiness (%)')\n",
    "\n",
    "plt.grid(True)\n",
    "\n",
    "plt.show()"
   ]
  },
  {
   "cell_type": "code",
   "execution_count": null,
   "metadata": {},
   "outputs": [],
   "source": [
    "# wind speed VS lat\n",
    "windy = weather_df['Wind Speed']\n",
    "\n",
    "plt.figure(figsize=(8,6))\n",
    "plt.scatter(lat, windy, color='lightgreen', edgecolor='black', alpha=.8)\n",
    "\n",
    "plt.title('Wind Speed VS City Latitude (2/8/21)')\n",
    "plt.xlabel('Latitude')\n",
    "plt.ylabel('Wind Speed (mph)')\n",
    "\n",
    "plt.grid(True)\n",
    "\n",
    "plt.show()"
   ]
  },
  {
   "cell_type": "markdown",
   "metadata": {},
   "source": [
    "# Regressions"
   ]
  },
  {
   "cell_type": "code",
   "execution_count": null,
   "metadata": {},
   "outputs": [],
   "source": []
  }
 ],
 "metadata": {
  "kernelspec": {
   "display_name": "Python 3",
   "language": "python",
   "name": "python3"
  },
  "language_info": {
   "codemirror_mode": {
    "name": "ipython",
    "version": 3
   },
   "file_extension": ".py",
   "mimetype": "text/x-python",
   "name": "python",
   "nbconvert_exporter": "python",
   "pygments_lexer": "ipython3",
   "version": "3.6.10"
  }
 },
 "nbformat": 4,
 "nbformat_minor": 4
}
