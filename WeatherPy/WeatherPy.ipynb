{
 "cells": [
  {
   "cell_type": "markdown",
   "metadata": {},
   "source": [
    "# Weather Maps"
   ]
  },
  {
   "cell_type": "code",
   "execution_count": null,
   "metadata": {},
   "outputs": [],
   "source": [
    "# Dependencies\n",
    "import matplotlib.pyplot as plt\n",
    "import pandas as pd\n",
    "import numpy as np\n",
    "import json\n",
    "import requests\n",
    "import time\n",
    "from scipy.stats import linregress\n",
    "\n",
    "# Incorporated citipy to determine city based on latitude and longitude\n",
    "from citipy import citipy\n",
    "\n",
    "# API keys\n",
    "from config import api_key"
   ]
  },
  {
   "cell_type": "code",
   "execution_count": null,
   "metadata": {},
   "outputs": [],
   "source": [
    "# these next to cells i got from the starter code to generate list of cities to use\n",
    "lat_range = (-90, 90)\n",
    "lng_range = (-180, 180)"
   ]
  },
  {
   "cell_type": "code",
   "execution_count": null,
   "metadata": {},
   "outputs": [],
   "source": [
    "# List for holding lat_lngs and cities\n",
    "lat_lngs = []\n",
    "towns = []\n",
    "\n",
    "# Create a set of random lat and lng combinations\n",
    "lats = np.random.uniform(lat_range[0], lat_range[1], size=1500)\n",
    "lngs = np.random.uniform(lng_range[0], lng_range[1], size=1500)\n",
    "lat_lngs = zip(lats, lngs)\n",
    "\n",
    "# Identify nearest city for each lat, lng combination\n",
    "for lat_lng in lat_lngs:\n",
    "    city = citipy.nearest_city(lat_lng[0], lat_lng[1]).city_name\n",
    "    \n",
    "    # If the city is unique, then add it to a our cities list\n",
    "    if city not in towns:\n",
    "        towns.append(city)\n",
    "\n",
    "# Print the city count to confirm sufficient count\n",
    "len(towns)"
   ]
  },
  {
   "cell_type": "code",
   "execution_count": null,
   "metadata": {},
   "outputs": [],
   "source": []
  },
  {
   "cell_type": "code",
   "execution_count": null,
   "metadata": {},
   "outputs": [],
   "source": [
    "# setting my search paramaters\n",
    "# towns = ['st. paul', 'albany', 'st. louis', 'miami', 'portland']\n",
    "units = 'imperial'\n",
    "base_url = 'http://api.openweathermap.org/data/2.5/weather?'"
   ]
  },
  {
   "cell_type": "code",
   "execution_count": null,
   "metadata": {
    "scrolled": true
   },
   "outputs": [],
   "source": [
    "# running thru my list of cities and grabbing the data i want\n",
    "\n",
    "# setting lists \n",
    "cities = []\n",
    "lat = []\n",
    "lng = []\n",
    "max_temp = []\n",
    "humidity = []\n",
    "cloudiness = []\n",
    "wind_speed = []\n",
    "country = []\n",
    "date = []\n",
    "\n",
    "# setting incrementing numbers as zero\n",
    "rec_num = 0\n",
    "set_num = 0\n",
    "\n",
    "print('Beginning Data Calls.')\n",
    "print('-----------------------')\n",
    "\n",
    "for city in towns:\n",
    "    \n",
    "    # requesting\n",
    "    city_url = f\"{base_url}q={city}&units={units}&appid={api_key}\"\n",
    "    response = requests.get(city_url)\n",
    "    city_json = response.json()\n",
    "    \n",
    "    # sleep for one second to avoid requesting more than 60 per min\n",
    "    time.sleep(1)\n",
    "    \n",
    "    # i want city, lat, lng, max temp, humidity, cloudiness, windspeed, country, date\n",
    "    try:\n",
    "        cities.append(city_json['name'])\n",
    "        lat.append(city_json['coord']['lat'])\n",
    "        lng.append(city_json['coord']['lon'])\n",
    "        max_temp.append(city_json['main']['temp_max'])\n",
    "        humidity.append(city_json['main']['humidity'])\n",
    "        cloudiness.append(city_json['clouds']['all'])\n",
    "        wind_speed.append(city_json['wind']['speed'])\n",
    "        country.append(city_json['sys']['country'])\n",
    "        date.append(city_json['dt'])\n",
    "        \n",
    "        # increment number for printing\n",
    "        if rec_num < 49:\n",
    "            rec_num += 1\n",
    "        else:\n",
    "            rec_num = 0\n",
    "            set_num +=1\n",
    "            \n",
    "        # print record when requesting\n",
    "        print(f'Processing Record {rec_num} of Set {set_num} | {city}')\n",
    "        \n",
    "    except:\n",
    "        # prints when missing a value and city is skipped\n",
    "        print('City not found Skipping.')\n",
    "        \n",
    "\n",
    "        \n",
    "# making dictionary of all\n",
    "weather_dict = {\n",
    "    'City': cities,\n",
    "    'Lat': lat,\n",
    "    'Lng': lng,\n",
    "    'Max Temp': max_temp,\n",
    "    'Humidity': humidity,\n",
    "    'Cloudiness': cloudiness,\n",
    "    'Wind Speed': wind_speed,\n",
    "    'Country': country,\n",
    "    'Date': date\n",
    "}\n",
    "\n",
    "# putting all in data frame\n",
    "weather_df = pd.DataFrame(weather_dict)"
   ]
  },
  {
   "cell_type": "code",
   "execution_count": null,
   "metadata": {},
   "outputs": [],
   "source": [
    "weather_df.head()"
   ]
  },
  {
   "cell_type": "code",
   "execution_count": null,
   "metadata": {},
   "outputs": [],
   "source": [
    "weather_df.dtypes"
   ]
  },
  {
   "cell_type": "code",
   "execution_count": null,
   "metadata": {},
   "outputs": [],
   "source": [
    "weather_df.count()"
   ]
  },
  {
   "cell_type": "code",
   "execution_count": null,
   "metadata": {},
   "outputs": [],
   "source": [
    "# getting rid of cities with humidity greater than 100\n",
    "weather_df = weather_df.loc[weather_df['Humidity'] <= 100, :]"
   ]
  },
  {
   "cell_type": "code",
   "execution_count": null,
   "metadata": {},
   "outputs": [],
   "source": [
    "weather_df.count()"
   ]
  },
  {
   "cell_type": "code",
   "execution_count": null,
   "metadata": {},
   "outputs": [],
   "source": [
    "# where i want to save file\n",
    "output_file = 'output/weather_data.csv'\n",
    "\n",
    "# write so output_file\n",
    "weather_df.to_csv(output_file, index=False)"
   ]
  },
  {
   "cell_type": "markdown",
   "metadata": {},
   "source": [
    "### So I can use the same data I already got, and bypass above"
   ]
  },
  {
   "cell_type": "code",
   "execution_count": null,
   "metadata": {},
   "outputs": [],
   "source": [
    "output_file = 'output/weather_data.csv'\n",
    "\n",
    "weather_df = pd.read_csv(output_file)"
   ]
  },
  {
   "cell_type": "code",
   "execution_count": null,
   "metadata": {},
   "outputs": [],
   "source": [
    "weather_df.head()"
   ]
  },
  {
   "cell_type": "markdown",
   "metadata": {},
   "source": [
    "# ok, I have data."
   ]
  },
  {
   "cell_type": "markdown",
   "metadata": {},
   "source": [
    "## Scatterplots"
   ]
  },
  {
   "cell_type": "code",
   "execution_count": null,
   "metadata": {},
   "outputs": [],
   "source": [
    "# temperature vs latitude\n",
    "\n",
    "# creating lists for plotting\n",
    "lat = weather_df['Lat']\n",
    "temp = weather_df['Max Temp']\n",
    "\n",
    "# making size and plotting\n",
    "plt.figure(figsize=(8,6))\n",
    "plt.scatter(lat, temp, color='lightgreen', edgecolor='black', alpha=.8)\n",
    "\n",
    "# adding labels\n",
    "plt.title('Max Temperature VS City Latitude (2/9/21)')\n",
    "plt.xlabel('Latitude')\n",
    "plt.ylabel('Max Temperature (F)')\n",
    "\n",
    "plt.grid(True)\n",
    "\n",
    "plt.show()"
   ]
  },
  {
   "cell_type": "markdown",
   "metadata": {},
   "source": [
    "The graph 'Max Temperature VS City Latitude' is looking into relationship between how tempurature is affected by the distance from the equator. The code is plotting the max temp column on the y axis and the lat column on the x axis. "
   ]
  },
  {
   "cell_type": "code",
   "execution_count": null,
   "metadata": {},
   "outputs": [],
   "source": [
    "# humidity vs latitude\n",
    "humid = weather_df['Humidity']\n",
    "\n",
    "# sizing and plotting\n",
    "plt.figure(figsize=(8,6))\n",
    "plt.scatter(lat, humid, color='lightgreen', edgecolor='black', alpha=.8)\n",
    "\n",
    "# adding labels\n",
    "plt.title('Humidity VS City Latitude (2/9/21)')\n",
    "plt.xlabel('Latitude')\n",
    "plt.ylabel('Humidity (%)')\n",
    "\n",
    "plt.grid(True)\n",
    "\n",
    "plt.show()"
   ]
  },
  {
   "cell_type": "markdown",
   "metadata": {},
   "source": [
    "This graph is 'Humidity VS City Latitude' it is comparing the relationship between humidity and nearness to the equator.\n",
    "The code is plotting the Humidity column on the y axis and the lat column on the x."
   ]
  },
  {
   "cell_type": "code",
   "execution_count": null,
   "metadata": {},
   "outputs": [],
   "source": [
    "# cloudiness vs latitude\n",
    "clouds = weather_df['Cloudiness']\n",
    "\n",
    "# sizing and plotting\n",
    "plt.figure(figsize=(8,6))\n",
    "plt.scatter(lat, clouds, color='lightgreen', edgecolor='black', alpha=.8)\n",
    "\n",
    "# adding labels\n",
    "plt.title('Cloudiness VS City Latitude (2/9/21)')\n",
    "plt.xlabel('Latitude')\n",
    "plt.ylabel('Cloudiness (%)')\n",
    "\n",
    "plt.grid(True)\n",
    "\n",
    "plt.show()"
   ]
  },
  {
   "cell_type": "markdown",
   "metadata": {},
   "source": [
    "This Graph, 'Cloudiness VS City Latitude' is looking at the relationship of Cloud coverage compared to its latitude. "
   ]
  },
  {
   "cell_type": "code",
   "execution_count": null,
   "metadata": {},
   "outputs": [],
   "source": [
    "# wind speed VS lat\n",
    "windy = weather_df['Wind Speed']\n",
    "\n",
    "# sizing and plotting\n",
    "plt.figure(figsize=(8,6))\n",
    "plt.scatter(lat, windy, color='lightgreen', edgecolor='black', alpha=.8)\n",
    "\n",
    "# adding labels\n",
    "plt.title('Wind Speed VS City Latitude (2/9/21)')\n",
    "plt.xlabel('Latitude')\n",
    "plt.ylabel('Wind Speed (mph)')\n",
    "\n",
    "plt.grid(True)\n",
    "\n",
    "plt.show()"
   ]
  },
  {
   "cell_type": "markdown",
   "metadata": {},
   "source": [
    "This graph 'Wind Speed VS City Latitude' is looking to if latitude correlates with Wind speed. the code plots wind speed column on y axis and lat column on x axis."
   ]
  },
  {
   "cell_type": "markdown",
   "metadata": {},
   "source": [
    "# Regressions"
   ]
  },
  {
   "cell_type": "code",
   "execution_count": null,
   "metadata": {},
   "outputs": [],
   "source": [
    "weather_df.head()"
   ]
  },
  {
   "cell_type": "code",
   "execution_count": null,
   "metadata": {},
   "outputs": [],
   "source": [
    "# need to split data into two df's one of northern hemisphere and one of southern hemisphere\n",
    "north_df = weather_df.loc[weather_df['Lat'] > 0, :]\n",
    "south_df = weather_df.loc[weather_df['Lat'] < 0, :]\n",
    "north_df.count()"
   ]
  },
  {
   "cell_type": "code",
   "execution_count": null,
   "metadata": {},
   "outputs": [],
   "source": [
    "# north temp vs lat\n",
    "\n",
    "# making a list of values for graphing\n",
    "n_temp = north_df['Max Temp']\n",
    "n_lat = north_df['Lat']\n",
    "\n",
    "# getting my values from my linear regression\n",
    "(slope, intercept, rvalue, pvalue, stderr) = linregress(n_lat, n_temp)\n",
    "\n",
    "# creating my linear regression line\n",
    "regress_line = slope * n_lat + intercept\n",
    "\n",
    "# printing my r value and r squared values\n",
    "print(f'The r value is {rvalue}')\n",
    "print(f'The r squared value is {rvalue**2}')\n",
    "\n",
    "# making plot\n",
    "plt.figure(figsize=(8,6))\n",
    "plt.scatter(n_lat, n_temp, color='lightgreen', edgecolor='black', alpha=.8)\n",
    "plt.plot(n_lat, regress_line, color='r', alpha=.5)\n",
    "\n",
    "plt.title('Northern Hemisphere Max Temperature VS City Latitude (2/9/21)')\n",
    "plt.xlabel('Latitude')\n",
    "plt.ylabel('Max Temperature (F)')\n",
    "\n",
    "line_str = f'y = {slope:.2f}x + {intercept:.2f}'\n",
    "plt.annotate(line_str, (20,20), color='r')\n",
    "\n",
    "plt.grid(True)\n",
    "\n",
    "plt.show()"
   ]
  },
  {
   "cell_type": "markdown",
   "metadata": {},
   "source": [
    "In the above Plot, 'Northern Hemisphere Max Temperature VS City Latitude' I am looking at the relationship between temperature and latitude. I am only looking at the northern hemisphere so that i can do an linear regression on it, as the southern hemisphere looks different. The correleation coeffecient here is very strong, -0.87 meaning the two are probably correlated. The regression is also pretty good with a r squared value of 0.76. I would say that there is a correlation between Temperature and Latitude."
   ]
  },
  {
   "cell_type": "code",
   "execution_count": null,
   "metadata": {},
   "outputs": [],
   "source": [
    "# south temp vs lat\n",
    "\n",
    "# making a list of values for graphing\n",
    "s_temp = south_df['Max Temp']\n",
    "s_lat = south_df['Lat']\n",
    "\n",
    "# getting my values from my linear regression\n",
    "(slope, intercept, rvalue, pvalue, stderr) = linregress(s_lat, s_temp)\n",
    "\n",
    "# creating my linear regression line\n",
    "regress_line = slope * s_lat + intercept\n",
    "\n",
    "# printing my r value and r squared values\n",
    "print(f'The r value is {rvalue}')\n",
    "print(f'The r squared value is {rvalue**2}')\n",
    "\n",
    "# making plot\n",
    "plt.figure(figsize=(8,6))\n",
    "plt.scatter(s_lat, s_temp, color='lightgreen', edgecolor='black', alpha=.8)\n",
    "plt.plot(s_lat, regress_line, color='r', alpha=.5)\n",
    "\n",
    "plt.title('Southern Hemisphere Max Temperature VS City Latitude (2/9/21)')\n",
    "plt.xlabel('Latitude')\n",
    "plt.ylabel('Max Temperature (F)')\n",
    "\n",
    "line_str = f'y = {slope:.2f}x + {intercept:.2f}'\n",
    "plt.annotate(line_str, (-30,60), color='r')\n",
    "\n",
    "plt.grid(True)\n",
    "\n",
    "plt.show()"
   ]
  },
  {
   "cell_type": "markdown",
   "metadata": {},
   "source": [
    "This graph 'Southern Hemisphere Max Temperature VS City Latitude' is looking at the same relationship as the above plot and regression, but this regression is not as strong. For starters, there are less data points to work with here, which never helps, and from just looking at it, they appear far more spread out then the northern hemisphere does. I don't believe that latitude doesn't magically have the same relationship down south as it does up north, but there are a lot of other factors in weather and climate realations that latitude going on there. Maybe the Southern hemisphere is just more intersting of a hemisphere than the north."
   ]
  },
  {
   "cell_type": "code",
   "execution_count": null,
   "metadata": {},
   "outputs": [],
   "source": [
    "# north humid vs lat\n",
    "\n",
    "# making a list of values for graphing\n",
    "n_humid = north_df['Humidity']\n",
    "\n",
    "# getting my values from my linear regression\n",
    "(slope, intercept, rvalue, pvalue, stderr) = linregress(n_lat, n_humid)\n",
    "\n",
    "# creating my linear regression line\n",
    "regress_line = slope * n_lat + intercept\n",
    "\n",
    "# printing my r value and r squared values\n",
    "print(f'The r value is {rvalue}')\n",
    "print(f'The r squared value is {rvalue**2}')\n",
    "\n",
    "# making plot\n",
    "plt.figure(figsize=(8,6))\n",
    "plt.scatter(n_lat, n_humid, color='lightgreen', edgecolor='black', alpha=.8)\n",
    "plt.plot(n_lat, regress_line, color='r', alpha=.5)\n",
    "\n",
    "plt.title('Northern Hemisphere Humidity VS City Latitude (2/9/21)')\n",
    "plt.xlabel('Latitude')\n",
    "plt.ylabel('Humidity (%)')\n",
    "\n",
    "line_str = f'y = {slope:.2f}x + {intercept:.2f}'\n",
    "plt.annotate(line_str, (40,30), color='r')\n",
    "\n",
    "plt.grid(True)\n",
    "\n",
    "plt.show()"
   ]
  },
  {
   "cell_type": "markdown",
   "metadata": {},
   "source": [
    "The above graph 'Northern Hemisphere Humidity VS City Latitude' tries to show a relationship between humidity and latitude in the northern hemisphere. It fails. There is no relationship here between humidity and latitude. With a correlation coefficent of 0.38 I would say there is just nothing here. On top of that the linear regression is useless with a r^2 of 0.14. I don't believe latitude is the important factors in humidity."
   ]
  },
  {
   "cell_type": "code",
   "execution_count": null,
   "metadata": {},
   "outputs": [],
   "source": [
    "# south humid vs lat\n",
    "\n",
    "# making a list of values for graphing\n",
    "s_humid = south_df['Humidity']\n",
    "\n",
    "# getting my values from my linear regression\n",
    "(slope, intercept, rvalue, pvalue, stderr) = linregress(s_lat, s_humid)\n",
    "\n",
    "# creating my linear regression line\n",
    "regress_line = slope * s_lat + intercept\n",
    "\n",
    "# printing my r value and r squared values\n",
    "print(f'The r value is {rvalue}')\n",
    "print(f'The r squared value is {rvalue**2}')\n",
    "\n",
    "# making plot\n",
    "plt.figure(figsize=(8,6))\n",
    "plt.scatter(s_lat, s_humid, color='lightgreen', edgecolor='black', alpha=.8)\n",
    "plt.plot(s_lat, regress_line, color='r', alpha=.5)\n",
    "\n",
    "plt.title('Southern Hemisphere Humidity VS City Latitude (2/9/21)')\n",
    "plt.xlabel('Latitude')\n",
    "plt.ylabel('Humidity (%)')\n",
    "\n",
    "line_str = f'y = {slope:.2f}x + {intercept:.2f}'\n",
    "plt.annotate(line_str, (-20,30), color='r')\n",
    "\n",
    "plt.grid(True)\n",
    "\n",
    "plt.show()"
   ]
  },
  {
   "cell_type": "markdown",
   "metadata": {},
   "source": [
    "The above graph 'Southern Hemisphere Humidity VS City Latitude' shows the same relationship as the last graph but for the southern hemisphere. It has even worse r and r^2 values, and I think latitude is not a driving factor in humidity."
   ]
  },
  {
   "cell_type": "code",
   "execution_count": null,
   "metadata": {},
   "outputs": [],
   "source": [
    "# north clouds vs lat\n",
    "\n",
    "# making a list of values for graphing\n",
    "n_clouds = north_df['Cloudiness']\n",
    "\n",
    "# getting my values from my linear regression\n",
    "(slope, intercept, rvalue, pvalue, stderr) = linregress(n_lat, n_clouds)\n",
    "\n",
    "# creating my linear regression line\n",
    "regress_line = slope * n_lat + intercept\n",
    "\n",
    "# printing my r value and r squared values\n",
    "print(f'The r value is {rvalue}')\n",
    "print(f'The r squared value is {rvalue**2}')\n",
    "\n",
    "# making plot\n",
    "plt.figure(figsize=(8,6))\n",
    "plt.scatter(n_lat, n_clouds, color='lightgreen', edgecolor='black', alpha=.8)\n",
    "plt.plot(n_lat, regress_line, color='r', alpha=.5)\n",
    "\n",
    "plt.title('Northern Hemisphere Cloudiness VS City Latitude (2/9/21)')\n",
    "plt.xlabel('Latitude')\n",
    "plt.ylabel('Cloudiness (%)')\n",
    "\n",
    "line_str = f'y = {slope:.2f}x + {intercept:.2f}'\n",
    "plt.annotate(line_str, (30,60), color='r')\n",
    "\n",
    "plt.grid(True)\n",
    "\n",
    "plt.show()"
   ]
  },
  {
   "cell_type": "markdown",
   "metadata": {},
   "source": [
    "The graph above is 'Northern Hemisphere Cloudiness VS City Latitude' and it is comparing Cloudiness to Latitude. There is no correlation between the two. The r value is so low it is almost zero. The linear regression is also basically useless with r^2 at almost 0. This makes sense. There are clouds all over the world, not just by the equator or at certain latitudes."
   ]
  },
  {
   "cell_type": "code",
   "execution_count": null,
   "metadata": {},
   "outputs": [],
   "source": [
    "# south clouds vs lat\n",
    "\n",
    "# making a list of values for graphing\n",
    "s_clouds = south_df['Cloudiness']\n",
    "\n",
    "# getting my values from my linear regression\n",
    "(slope, intercept, rvalue, pvalue, stderr) = linregress(s_lat, s_clouds)\n",
    "\n",
    "# creating my linear regression line\n",
    "regress_line = slope * s_lat + intercept\n",
    "\n",
    "# printing my r value and r squared values\n",
    "print(f'The r value is {rvalue}')\n",
    "print(f'The r squared value is {rvalue**2}')\n",
    "\n",
    "# making plot\n",
    "plt.figure(figsize=(8,6))\n",
    "plt.scatter(s_lat, s_clouds, color='lightgreen', edgecolor='black', alpha=.8)\n",
    "plt.plot(s_lat, regress_line, color='r', alpha=.5)\n",
    "\n",
    "plt.title('Southern Hemisphere Cloudiness VS City Latitude (2/9/21)')\n",
    "plt.xlabel('Latitude')\n",
    "plt.ylabel('Cloudiness (%)')\n",
    "\n",
    "line_str = f'y = {slope:.2f}x + {intercept:.2f}'\n",
    "plt.annotate(line_str, (-20,30), color='r')\n",
    "\n",
    "plt.grid(True)\n",
    "\n",
    "plt.show()"
   ]
  },
  {
   "cell_type": "markdown",
   "metadata": {},
   "source": [
    "The graph above is 'Southern Hemisphere Cloudiness VS City Latitude' and I don't have anything to say that I didn't already say above for northern hemisphere. There just is not a correlation."
   ]
  },
  {
   "cell_type": "code",
   "execution_count": null,
   "metadata": {},
   "outputs": [],
   "source": [
    "# north windy vs lat\n",
    "\n",
    "# making a list of values for graphing\n",
    "n_windy = north_df['Wind Speed']\n",
    "\n",
    "# getting my values from my linear regression\n",
    "(slope, intercept, rvalue, pvalue, stderr) = linregress(n_lat, n_windy)\n",
    "\n",
    "# creating my linear regression line\n",
    "regress_line = slope * n_lat + intercept\n",
    "\n",
    "# printing my r value and r squared values\n",
    "print(f'The r value is {rvalue}')\n",
    "print(f'The r squared value is {rvalue**2}')\n",
    "\n",
    "# making plot\n",
    "plt.figure(figsize=(8,6))\n",
    "plt.scatter(n_lat, n_windy, color='lightgreen', edgecolor='black', alpha=.8)\n",
    "plt.plot(n_lat, regress_line, color='r', alpha=.5)\n",
    "\n",
    "plt.title('Northern Hemisphere Wind Speed VS City Latitude (2/9/21)')\n",
    "plt.xlabel('Latitude')\n",
    "plt.ylabel('Wind Speed (mph)')\n",
    "\n",
    "line_str = f'y = {slope:.2f}x + {intercept:.2f}'\n",
    "plt.annotate(line_str, (60,15), color='r')\n",
    "\n",
    "plt.grid(True)\n",
    "\n",
    "plt.show()"
   ]
  },
  {
   "cell_type": "markdown",
   "metadata": {},
   "source": [
    "The above graph 'Northern Hemisphere Wind Speed VS City Latitude' is comparing the relationship of Wind speed and latitude. There is just not enough of a relationship. The r value is 0.03, that is so low. This makes sense as wind speed is influenced by the earths rotation, terrain, air pressure, etc. Their are so many influences I don't think latitude would matter. The regression is basically 0."
   ]
  },
  {
   "cell_type": "code",
   "execution_count": null,
   "metadata": {},
   "outputs": [],
   "source": [
    "# south windy vs lat\n",
    "\n",
    "# making a list of values for graphing\n",
    "s_windy = south_df['Wind Speed']\n",
    "\n",
    "# getting my values from my linear regression\n",
    "(slope, intercept, rvalue, pvalue, stderr) = linregress(s_lat, s_windy)\n",
    "\n",
    "# creating my linear regression line\n",
    "regress_line = slope * s_lat + intercept\n",
    "\n",
    "# printing my r value and r squared values\n",
    "print(f'The r value is {rvalue}')\n",
    "print(f'The r squared value is {rvalue**2}')\n",
    "\n",
    "# making plot\n",
    "plt.figure(figsize=(8,6))\n",
    "plt.scatter(s_lat, s_windy, color='lightgreen', edgecolor='black', alpha=.8)\n",
    "plt.plot(s_lat, regress_line, color='r', alpha=.5)\n",
    "\n",
    "plt.title('Southern Hemisphere Wind Speed VS City Latitude (2/9/21)')\n",
    "plt.xlabel('Latitude')\n",
    "plt.ylabel('Wind Speed (mph)')\n",
    "\n",
    "line_str = f'y = {slope:.2f}x + {intercept:.2f}'\n",
    "plt.annotate(line_str, (-50,12.5), color='r')\n",
    "\n",
    "plt.grid(True)\n",
    "\n",
    "plt.show()"
   ]
  },
  {
   "cell_type": "markdown",
   "metadata": {},
   "source": [
    "The above Graph is 'Southern Hemisphere Wind Speed VS City Latitdue' and this actually has higher r and r^2 value than the northern hemisphere, but is still not high enough to be useful. I still stand by my conclusion of no relationship."
   ]
  },
  {
   "cell_type": "markdown",
   "metadata": {},
   "source": [
    "# Final Take Aways"
   ]
  },
  {
   "cell_type": "markdown",
   "metadata": {},
   "source": [
    "My final take away is that while Cloudiness, Humidity, and Wind Speed are independent of Latitude; Temperature, is in fact, correlated with Latitude. This correlation is stronger in the Norhtern Hemisphere than the Southern Hemishpere, but is there in both."
   ]
  },
  {
   "cell_type": "markdown",
   "metadata": {},
   "source": [
    "# My 3 Observations"
   ]
  },
  {
   "cell_type": "markdown",
   "metadata": {},
   "source": [
    "## Number One\n",
    "Looking at Northern Hemisphere Max Temperature VS City Latitude it looks like it gets warmer as you approach the equator. With the r value at -.87 I would say this is a fair assumption."
   ]
  },
  {
   "cell_type": "markdown",
   "metadata": {},
   "source": [
    "## Number Two\n",
    "Wind Speed has nothing to do with Latitude. Looking at Northern Hemisphere Wind Speed VS City Latitude it is just a cascade of data. No real trend and the and the r value backs up being real low at .00314"
   ]
  },
  {
   "cell_type": "markdown",
   "metadata": {},
   "source": [
    "## Number 3\n",
    "clouds have very little to do with latitude. They are every where and nowhere. and the data backs this up. the r value is low at .05"
   ]
  },
  {
   "cell_type": "code",
   "execution_count": null,
   "metadata": {},
   "outputs": [],
   "source": []
  }
 ],
 "metadata": {
  "kernelspec": {
   "display_name": "Python 3",
   "language": "python",
   "name": "python3"
  },
  "language_info": {
   "codemirror_mode": {
    "name": "ipython",
    "version": 3
   },
   "file_extension": ".py",
   "mimetype": "text/x-python",
   "name": "python",
   "nbconvert_exporter": "python",
   "pygments_lexer": "ipython3",
   "version": "3.6.10"
  }
 },
 "nbformat": 4,
 "nbformat_minor": 4
}
